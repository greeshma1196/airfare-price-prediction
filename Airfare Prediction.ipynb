{
 "cells": [
  {
   "cell_type": "code",
   "execution_count": 1,
   "id": "2316c5df",
   "metadata": {},
   "outputs": [],
   "source": [
    "from os import read\n",
    "from IPython.display import display, HTML\n",
    "import pandas as pd\n",
    "import sqlite3\n",
    "from sqlite3 import Error\n",
    "from csv import reader\n",
    "import matplotlib.pyplot as plt\n",
    "import numpy as np\n",
    "\n",
    "#Create connection function\n",
    "def creat_connection(db_file):\n",
    "    conn = None\n",
    "    try:\n",
    "        conn = sqlite3.connect(db_file)\n",
    "        conn.execute(\"PRAGMA foreign_keys = 1\")\n",
    "    except Error as e:\n",
    "        print(e)\n",
    "    return conn\n",
    "\n",
    "#Create table function\n",
    "def create_table(conn, create_table_sql):\n",
    "    try:\n",
    "        c = conn.cursor()\n",
    "        c.execute(create_table_sql)\n",
    "    except Error as e:\n",
    "        print(e)\n",
    "        \n",
    "#Execute SQL statement function        \n",
    "def execute_sql_statement(sql_statement, conn):\n",
    "    cur = conn.cursor()\n",
    "    cur.execute(sql_statement)\n",
    "    rows = cur.fetchall()\n",
    "    return rows\n",
    "\n",
    "#Create the normalized database with the file Airfare_Predcition.csv\n",
    "normalized_database_name = 'normalized_airfare_prediction.db'\n",
    "\n",
    "conn = creat_connection(normalized_database_name)\n",
    "\n",
    "#SQL statement for creating Years table\n",
    "sql_statement_year = \"\"\"\n",
    "CREATE TABLE [Years](\n",
    "    [ID] INTEGER PRIMARY KEY AUTOINCREMENT,\n",
    "    [Year] INTEGER UNIQUE NOT NULL\n",
    ");\n",
    "\"\"\"\n",
    "create_table(conn, sql_statement_year)\n",
    "\n",
    "#SQL statement for creating Quarters table\n",
    "sql_statement_quarter = \"\"\"\n",
    "CREATE TABLE [Quarters](\n",
    "    [ID] INTEGER PRIMARY KEY AUTOINCREMENT,\n",
    "    [Quarter] INTEGER UNIQUE NOT NULL\n",
    ");\n",
    "\"\"\"\n",
    "create_table(conn, sql_statement_quarter)\n",
    "\n",
    "#SQL statement for creating Carriers table\n",
    "sql_statement_carrier = \"\"\"\n",
    "CREATE TABLE [Carriers](\n",
    "    [ID] INTEGER PRIMARY KEY AUTOINCREMENT,\n",
    "    [Code] TEXT UNIQUE NOT NULL\n",
    ");\n",
    "\"\"\"\n",
    "create_table(conn, sql_statement_carrier)\n",
    "\n",
    "#SQL statement for creating Airports table\n",
    "sql_statement_airport = \"\"\"\n",
    "CREATE TABLE [Airports](\n",
    "    [ID] INTEGER PRIMARY KEY AUTOINCREMENT,\n",
    "    [Name] TEXT UNIQUE NOT NULL\n",
    ");\n",
    "\"\"\"\n",
    "create_table(conn,sql_statement_airport)\n",
    "\n",
    "#SQL statement for creating Airfares table\n",
    "sql_statement_airfare = \"\"\"\n",
    "CREATE TABLE [Airfares](\n",
    "    [ID] INTEGER PRIMARY KEY AUTOINCREMENT,\n",
    "    [Origin] INTEGER NOT NULL,\n",
    "    [Destination] INTEGER NOT NULL,\n",
    "    [Average_Fare] REAL NOT NULL,\n",
    "    [Distance] REAL NOT NULL,\n",
    "    [Year_ID] INTEGER NOT NULL,\n",
    "    [Quarter_ID] INTEGER NOT NULL,\n",
    "    [CLg_ID] INTEGER NOT NULL,\n",
    "    [CLow_ID] INTEGER NOT NULL,\n",
    "    FOREIGN KEY(Origin) REFERENCES Airports(ID),\n",
    "    FOREIGN KEY(Destination) REFERENCES Airports(ID),\n",
    "    FOREIGN KEY(Year_ID) REFERENCES Years(ID),\n",
    "    FOREIGN KEY(Quarter_ID) REFERENCES Quarters(ID),\n",
    "    FOREIGN KEY(CLg_ID) REFERENCES Carriers(ID),\n",
    "    FOREIGN KEY(CLow_ID) REFERENCES Carriers(ID)\n",
    ");\n",
    "\"\"\"\n",
    "create_table(conn, sql_statement_airfare)\n",
    "\n",
    "#Initialize sets for Years, Quarters, Carriers, Airports respectively\n",
    "year_list = set()\n",
    "quarter_list = set()\n",
    "carrier_list = set()\n",
    "airport_list = set()\n",
    "\n",
    "#Read the file and extract values to store in the sets mentioned above\n",
    "with open('Airfare_Prediction.csv') as file:\n",
    "    next(file)\n",
    "    for i in reader(file):\n",
    "        if(i[0] not in year_list):\n",
    "            year_list.add(i[0])\n",
    "        if(i[1] not in quarter_list):\n",
    "            quarter_list.add(i[1])\n",
    "        if(i[2] not in airport_list):\n",
    "            airport_list.add(i[2])\n",
    "        if(i[3] not in airport_list):\n",
    "            airport_list.add(i[3])\n",
    "        if(i[6] not in carrier_list):\n",
    "            carrier_list.add(i[6])\n",
    "        if(i[7] not in carrier_list):\n",
    "            carrier_list.add(i[7])\n",
    "\n",
    "#Iterate through each of the set and add to the tables   \n",
    "for i in year_list:\n",
    "    sql_statement_insert_year = \"INSERT INTO [Years] (Year) VALUES({})\".format(i)\n",
    "    execute_sql_statement(sql_statement_insert_year, conn)\n",
    "conn.commit()\n",
    "     \n",
    "for i in quarter_list:\n",
    "    sql_statement_insert_quarter = \"INSERT INTO [Quarters] (Quarter) VALUES({})\".format(i)\n",
    "    execute_sql_statement(sql_statement_insert_quarter, conn)\n",
    "conn.commit()\n",
    "       \n",
    "for i in carrier_list:\n",
    "    sql_statement_insert_carrier = \"INSERT INTO [Carriers] (Code) VALUES('{}')\".format(i)\n",
    "    execute_sql_statement(sql_statement_insert_carrier, conn)\n",
    "conn.commit()\n",
    "       \n",
    "for i in airport_list:\n",
    "    sql_statement_destinations = \"INSERT INTO [Airports] (Name) VALUES('{}')\".format(i)\n",
    "    execute_sql_statement(sql_statement_destinations,conn)\n",
    "conn.commit()\n",
    "\n",
    "with open('Airfare_Prediction.csv') as file:\n",
    "    next(file)\n",
    "    for i in reader(file):\n",
    "        year_id = execute_sql_statement(\"SELECT ID FROM Years WHERE Year={}\".format(i[0]),conn)[0][0]\n",
    "        quarter_id = execute_sql_statement(\"SELECT ID FROM Quarters WHERE Quarter={}\".format(i[1]),conn)[0][0]\n",
    "        origin = execute_sql_statement(\"SELECT ID FROM Airports WHERE Name='{}'\".format(i[2]),conn)[0][0]\n",
    "        destination = execute_sql_statement(\"SELECT ID FROM Airports WHERE Name='{}'\".format(i[3]),conn)[0][0]\n",
    "        carrier_lg = execute_sql_statement(\"SELECT ID FROM Carriers WHERE Code='{}'\".format(i[6]),conn)[0][0]\n",
    "        carrier_low = execute_sql_statement(\"SELECT ID FROM Carriers WHERE Code='{}'\".format(i[7]),conn)[0][0]\n",
    "        sql_statement_insert_airfares = \"\"\"\n",
    "            INSERT INTO [Airfares] \n",
    "            (Origin, Destination, Average_Fare, Distance, Year_ID, Quarter_ID, CLg_ID, CLow_ID) \n",
    "            VALUES ({},{},{},{},{},{},{},{})\"\"\".format(origin, destination,i[5],i[4],year_id,quarter_id,carrier_lg,carrier_low)\n",
    "        execute_sql_statement(sql_statement_insert_airfares, conn)\n",
    "    conn.commit()\n"
   ]
  },
  {
   "cell_type": "code",
   "execution_count": 2,
   "id": "a51f02a5",
   "metadata": {},
   "outputs": [
    {
     "name": "stdout",
     "output_type": "stream",
     "text": [
      "    ID  Year\n",
      "0    1  1997\n",
      "1    2  2019\n",
      "2    3  2009\n",
      "3    4  2005\n",
      "4    5  1996\n",
      "5    6  2010\n",
      "6    7  1998\n",
      "7    8  2013\n",
      "8    9  2001\n",
      "9   10  2016\n",
      "10  11  2003\n",
      "11  12  2021\n",
      "12  13  2020\n",
      "13  14  2002\n",
      "14  15  1999\n",
      "15  16  2007\n",
      "16  17  2017\n",
      "17  18  2011\n",
      "18  19  2015\n",
      "19  20  2004\n",
      "20  21  2014\n",
      "21  22  2018\n",
      "22  23  2006\n",
      "23  24  2000\n",
      "24  25  2008\n",
      "25  26  2012\n"
     ]
    }
   ],
   "source": [
    "#Display the Years table\n",
    "sql_statement = \"SELECT * FROM Years\"\n",
    "print(pd.read_sql_query(sql_statement, conn))"
   ]
  },
  {
   "cell_type": "code",
   "execution_count": 3,
   "id": "9083f3f3",
   "metadata": {},
   "outputs": [
    {
     "name": "stdout",
     "output_type": "stream",
     "text": [
      "   ID  Quarter\n",
      "0   1        1\n",
      "1   2        2\n",
      "2   3        3\n",
      "3   4        4\n"
     ]
    }
   ],
   "source": [
    "#Display the Quarters table\n",
    "sql_statement = \"SELECT * FROM Quarters\"\n",
    "print(pd.read_sql_query(sql_statement, conn))"
   ]
  },
  {
   "cell_type": "code",
   "execution_count": 4,
   "id": "cd2d0d8c",
   "metadata": {},
   "outputs": [
    {
     "name": "stdout",
     "output_type": "stream",
     "text": [
      "    ID Code\n",
      "0    1     \n",
      "1    2   NW\n",
      "2    3   XJ\n",
      "3    4   NJ\n",
      "4    5   G4\n",
      "5    6   RU\n",
      "6    7   W9\n",
      "7    8   9N\n",
      "8    9   N5\n",
      "9   10   AA\n",
      "10  11   OO\n",
      "11  12   QX\n",
      "12  13   F9\n",
      "13  14   WN\n",
      "14  15   RP\n",
      "15  16   P9\n",
      "16  17   AS\n",
      "17  18   US\n",
      "18  19   TB\n",
      "19  20   ZA\n",
      "20  21   SY\n",
      "21  22   TW\n",
      "22  23   B6\n",
      "23  24   AQ\n",
      "24  25   SX\n",
      "25  26   A7\n",
      "26  27   FF\n",
      "27  28   OE\n",
      "28  29   FL\n",
      "29  30   HP\n",
      "30  31   PN\n",
      "31  32   U5\n",
      "32  33   WV\n",
      "33  34   YV\n",
      "34  35   QQ\n",
      "35  36   J7\n",
      "36  37   TZ\n",
      "37  38   E9\n",
      "38  39   W7\n",
      "39  40   UA\n",
      "40  41   CO\n",
      "41  42   N7\n",
      "42  43   T3\n",
      "43  44   DH\n",
      "44  45   NK\n",
      "45  46   JI\n",
      "46  47   KW\n",
      "47  48   SM\n",
      "48  49   DL\n",
      "49  50   YX\n",
      "50  51   ZW\n",
      "51  52   KP\n",
      "52  53   L4\n",
      "53  54   VX\n",
      "54  55   EV\n"
     ]
    }
   ],
   "source": [
    "#Display the Carriers table\n",
    "sql_statement = \"SELECT * FROM Carriers\"\n",
    "print(pd.read_sql_query(sql_statement, conn))"
   ]
  },
  {
   "cell_type": "code",
   "execution_count": 5,
   "id": "2826fd01",
   "metadata": {},
   "outputs": [
    {
     "name": "stdout",
     "output_type": "stream",
     "text": [
      "      ID                       Name\n",
      "0      1       Colorado Springs, CO\n",
      "1      2                Jackson, WY\n",
      "2      3             Des Moines, IA\n",
      "3      4               Portland, ME\n",
      "4      5                 Toledo, OH\n",
      "..   ...                        ...\n",
      "169  170             Huntsville, AL\n",
      "170  171            Sioux Falls, SD\n",
      "171  172  Fort Collins/Loveland, CO\n",
      "172  173           Indianapolis, IN\n",
      "173  174             Sacramento, CA\n",
      "\n",
      "[174 rows x 2 columns]\n"
     ]
    }
   ],
   "source": [
    "#Display the Airports table\n",
    "sql_statement = \"SELECT * FROM Airports\"\n",
    "print(pd.read_sql_query(sql_statement, conn))"
   ]
  },
  {
   "cell_type": "code",
   "execution_count": 6,
   "id": "7d2cb05c",
   "metadata": {
    "scrolled": true
   },
   "outputs": [
    {
     "name": "stdout",
     "output_type": "stream",
     "text": [
      "            ID  Origin  Destination  Average_Fare  Distance  Year_ID  \\\n",
      "0            1      75           64        244.04     366.0        5   \n",
      "1            2      87          122        196.84    1399.0        5   \n",
      "2            3      94          111        194.06     325.0        5   \n",
      "3            4     109           17        149.49    1460.0        5   \n",
      "4            5     120          116        140.64     661.0        5   \n",
      "...        ...     ...          ...           ...       ...      ...   \n",
      "102015  102016      89           34        160.47    1111.0       12   \n",
      "102016  102017      93          101        201.60     684.0       12   \n",
      "102017  102018      93          116        130.13     724.0       12   \n",
      "102018  102019      93           34        108.25     550.0       12   \n",
      "102019  102020      93          114         75.66     511.0       12   \n",
      "\n",
      "        Quarter_ID  CLg_ID  CLow_ID  \n",
      "0                3      18       49  \n",
      "1                4       2       13  \n",
      "2                2      18       10  \n",
      "3                2      30       37  \n",
      "4                2      49       14  \n",
      "...            ...     ...      ...  \n",
      "102015           2       5        5  \n",
      "102016           2       5        5  \n",
      "102017           2       5        5  \n",
      "102018           2       5        5  \n",
      "102019           2       5        5  \n",
      "\n",
      "[102020 rows x 9 columns]\n"
     ]
    }
   ],
   "source": [
    "#Display the Airfares table\n",
    "sql_statement = \"SELECT * FROM Airfares\"\n",
    "print(pd.read_sql_query(sql_statement, conn))"
   ]
  },
  {
   "cell_type": "code",
   "execution_count": 7,
   "id": "ea64040f",
   "metadata": {},
   "outputs": [],
   "source": [
    "#SQL statement to generate the entire table with normalized values\n",
    "sql_statement_table = \"\"\"\n",
    "    SELECT Years.Year,\n",
    "        Quarters.Quarter,\n",
    "        Origin.Name AS Origin,\n",
    "        Destination.Name AS Destination,\n",
    "        Airfares.Average_Fare, \n",
    "        Airfares.Distance,\n",
    "        Carrier_LG.Code AS Carrier_LG,\n",
    "        Carrier_Low.Code AS Carrier_Low\n",
    "    FROM Airfares\n",
    "    INNER JOIN Years ON Years.ID = Airfares.Year_ID\n",
    "    INNER JOIN Quarters ON Quarters.ID = Airfares.Quarter_ID\n",
    "    INNER JOIN Airports AS Origin ON Origin.ID = Airfares.Origin\n",
    "    INNER JOIN Airports AS Destination ON Destination.ID = Airfares.Destination\n",
    "    INNER JOIN Carriers AS Carrier_LG ON Carrier_LG.ID = Airfares.CLg_ID\n",
    "    INNER JOIN Carriers AS Carrier_Low ON Carrier_Low.ID = Airfares.CLow_ID\n",
    "\"\"\"\n",
    "\n",
    "df = pd.read_sql_query(sql_statement_table, conn)"
   ]
  },
  {
   "cell_type": "code",
   "execution_count": 8,
   "id": "7f43709b",
   "metadata": {},
   "outputs": [
    {
     "name": "stderr",
     "output_type": "stream",
     "text": [
      "/var/folders/x7/2p1p8y5d7z73_5lt_c6wsf680000gn/T/ipykernel_74539/1119167094.py:2: FutureWarning: Dropping of nuisance columns in DataFrame reductions (with 'numeric_only=None') is deprecated; in a future version this will raise TypeError.  Select only valid columns before calling the reduction.\n",
      "  aa_average=df.where(df['Carrier_LG']=='AA').mean()['Average_Fare']\n",
      "/var/folders/x7/2p1p8y5d7z73_5lt_c6wsf680000gn/T/ipykernel_74539/1119167094.py:3: FutureWarning: Dropping of nuisance columns in DataFrame reductions (with 'numeric_only=None') is deprecated; in a future version this will raise TypeError.  Select only valid columns before calling the reduction.\n",
      "  ua_average=df.where(df['Carrier_LG']=='UA').mean()['Average_Fare']\n",
      "/var/folders/x7/2p1p8y5d7z73_5lt_c6wsf680000gn/T/ipykernel_74539/1119167094.py:4: FutureWarning: Dropping of nuisance columns in DataFrame reductions (with 'numeric_only=None') is deprecated; in a future version this will raise TypeError.  Select only valid columns before calling the reduction.\n",
      "  sw_average=df.where(df['Carrier_LG']=='WN').mean()['Average_Fare']\n",
      "/var/folders/x7/2p1p8y5d7z73_5lt_c6wsf680000gn/T/ipykernel_74539/1119167094.py:5: FutureWarning: Dropping of nuisance columns in DataFrame reductions (with 'numeric_only=None') is deprecated; in a future version this will raise TypeError.  Select only valid columns before calling the reduction.\n",
      "  dl_average=df.where(df['Carrier_LG']=='DL').mean()['Average_Fare']\n",
      "/var/folders/x7/2p1p8y5d7z73_5lt_c6wsf680000gn/T/ipykernel_74539/1119167094.py:6: FutureWarning: Dropping of nuisance columns in DataFrame reductions (with 'numeric_only=None') is deprecated; in a future version this will raise TypeError.  Select only valid columns before calling the reduction.\n",
      "  jb_average=df.where(df['Carrier_LG']=='B6').mean()['Average_Fare']\n"
     ]
    },
    {
     "data": {
      "text/plain": [
       "Text(0.5, 1.0, '5 Major Carriers and their average fares')"
      ]
     },
     "execution_count": 8,
     "metadata": {},
     "output_type": "execute_result"
    },
    {
     "data": {
      "image/png": "[encoded data removed]",
      "text/plain": [
       "<Figure size 432x288 with 1 Axes>"
      ]
     },
     "metadata": {
      "needs_background": "light"
     },
     "output_type": "display_data"
    }
   ],
   "source": [
    "#Generate a bar plot for 5 major carriers and their corresponding fares\n",
    "aa_average=df.where(df['Carrier_LG']=='AA').mean()['Average_Fare']\n",
    "ua_average=df.where(df['Carrier_LG']=='UA').mean()['Average_Fare']\n",
    "sw_average=df.where(df['Carrier_LG']=='WN').mean()['Average_Fare']\n",
    "dl_average=df.where(df['Carrier_LG']=='DL').mean()['Average_Fare']\n",
    "jb_average=df.where(df['Carrier_LG']=='B6').mean()['Average_Fare']\n",
    "\n",
    "Airlines =['American','United','South West','Delta',\"Jet Blue\"]\n",
    "pos = np.arange(len(Airlines))\n",
    "avg_fares = [aa_average,ua_average,sw_average,dl_average,jb_average]\n",
    "\n",
    "bars=plt.bar(pos, avg_fares, align='center')\n",
    "bars[0].set_color('darkred')\n",
    "bars[2].set_color('yellow')\n",
    "bars[3].set_color('red')\n",
    "bars[4].set_color('steelblue')\n",
    "plt.xticks(pos, Airlines)\n",
    "plt.xlabel('Airlines')\n",
    "plt.ylabel('Average Fares($)')\n",
    "plt.title('5 Major Carriers and their average fares')"
   ]
  },
  {
   "cell_type": "code",
   "execution_count": 9,
   "id": "a7f9aad5",
   "metadata": {},
   "outputs": [
    {
     "data": {
      "text/plain": [
       "Atlanta, GA (Metropolitan Area)        5901\n",
       "Chicago, IL                            5688\n",
       "Dallas/Fort Worth, TX                  5175\n",
       "Boston, MA (Metropolitan Area)         4976\n",
       "Denver, CO                             4129\n",
       "Houston, TX                            3663\n",
       "Las Vegas, NV                          3555\n",
       "Los Angeles, CA (Metropolitan Area)    3510\n",
       "Detroit, MI                            3036\n",
       "Charlotte, NC                          2962\n",
       "Name: Origin, dtype: int64"
      ]
     },
     "execution_count": 9,
     "metadata": {},
     "output_type": "execute_result"
    }
   ],
   "source": [
    "#Retrieve the busiest airports in terms of volume of domestic passenger traffic\n",
    "df['Origin'].value_counts()[:10].sort_values(ascending=False)"
   ]
  },
  {
   "cell_type": "code",
   "execution_count": 10,
   "id": "03217d9d",
   "metadata": {},
   "outputs": [
    {
     "name": "stderr",
     "output_type": "stream",
     "text": [
      "/var/folders/x7/2p1p8y5d7z73_5lt_c6wsf680000gn/T/ipykernel_74539/1299549363.py:2: FutureWarning: Dropping of nuisance columns in DataFrame reductions (with 'numeric_only=None') is deprecated; in a future version this will raise TypeError.  Select only valid columns before calling the reduction.\n",
      "  atl_average=df.where(df['Origin']=='Atlanta, GA (Metropolitan Area)').mean()['Average_Fare']\n",
      "/var/folders/x7/2p1p8y5d7z73_5lt_c6wsf680000gn/T/ipykernel_74539/1299549363.py:3: FutureWarning: Dropping of nuisance columns in DataFrame reductions (with 'numeric_only=None') is deprecated; in a future version this will raise TypeError.  Select only valid columns before calling the reduction.\n",
      "  ord_average=df.where(df['Origin']=='Chicago, IL' ).mean()['Average_Fare']\n",
      "/var/folders/x7/2p1p8y5d7z73_5lt_c6wsf680000gn/T/ipykernel_74539/1299549363.py:4: FutureWarning: Dropping of nuisance columns in DataFrame reductions (with 'numeric_only=None') is deprecated; in a future version this will raise TypeError.  Select only valid columns before calling the reduction.\n",
      "  dfw_average=df.where(df['Origin']=='Dallas/Fort Worth, TX').mean()['Average_Fare']\n",
      "/var/folders/x7/2p1p8y5d7z73_5lt_c6wsf680000gn/T/ipykernel_74539/1299549363.py:5: FutureWarning: Dropping of nuisance columns in DataFrame reductions (with 'numeric_only=None') is deprecated; in a future version this will raise TypeError.  Select only valid columns before calling the reduction.\n",
      "  bos_average=df.where(df['Origin']=='Boston, MA (Metropolitan Area)').mean()['Average_Fare']\n"
     ]
    }
   ],
   "source": [
    "#Compute the mean fare for Atlanta, Chicago, Dallas and Boston\n",
    "atl_average=df.where(df['Origin']=='Atlanta, GA (Metropolitan Area)').mean()['Average_Fare']\n",
    "ord_average=df.where(df['Origin']=='Chicago, IL' ).mean()['Average_Fare']\n",
    "dfw_average=df.where(df['Origin']=='Dallas/Fort Worth, TX').mean()['Average_Fare']\n",
    "bos_average=df.where(df['Origin']=='Boston, MA (Metropolitan Area)').mean()['Average_Fare']"
   ]
  },
  {
   "cell_type": "code",
   "execution_count": 11,
   "id": "e36a4e5d",
   "metadata": {},
   "outputs": [
    {
     "data": {
      "text/plain": [
       "Text(0.5, 1.0, '4 Major Airports and Their Average Fares')"
      ]
     },
     "execution_count": 11,
     "metadata": {},
     "output_type": "execute_result"
    },
    {
     "data": {
      "image/png": "[encoded data removed]",
      "text/plain": [
       "<Figure size 432x288 with 1 Axes>"
      ]
     },
     "metadata": {
      "needs_background": "light"
     },
     "output_type": "display_data"
    }
   ],
   "source": [
    "#Generate a scatter plot for 4 of the major airports and their corresponding average fares\n",
    "Origin =['Atlanta','Chicago ','Dallas','Boston']\n",
    "pos = np.arange(len(Origin))\n",
    "origin_fares = [atl_average,ord_average,dfw_average,bos_average]\n",
    "plt.scatter(Origin[0],origin_fares[0],color='red')\n",
    "plt.scatter(Origin[1],origin_fares[1],color='blue')\n",
    "plt.scatter(Origin[2],origin_fares[2],color='yellow')\n",
    "plt.scatter(Origin[3],origin_fares[3],color='purple')\n",
    "plt.xlabel('Origin Airports')\n",
    "plt.ylabel('Average Fares($)')\n",
    "plt.title('4 Major Airports and Their Average Fares')"
   ]
  },
  {
   "cell_type": "code",
   "execution_count": 12,
   "id": "e5ad5336",
   "metadata": {},
   "outputs": [
    {
     "name": "stderr",
     "output_type": "stream",
     "text": [
      "/var/folders/x7/2p1p8y5d7z73_5lt_c6wsf680000gn/T/ipykernel_74539/1929915480.py:2: FutureWarning: Dropping of nuisance columns in DataFrame reductions (with 'numeric_only=None') is deprecated; in a future version this will raise TypeError.  Select only valid columns before calling the reduction.\n",
      "  q1_average=df.where(df['Quarter']==1).mean()['Average_Fare']\n",
      "/var/folders/x7/2p1p8y5d7z73_5lt_c6wsf680000gn/T/ipykernel_74539/1929915480.py:3: FutureWarning: Dropping of nuisance columns in DataFrame reductions (with 'numeric_only=None') is deprecated; in a future version this will raise TypeError.  Select only valid columns before calling the reduction.\n",
      "  q2_average=df.where(df['Quarter']==2).mean()['Average_Fare']\n",
      "/var/folders/x7/2p1p8y5d7z73_5lt_c6wsf680000gn/T/ipykernel_74539/1929915480.py:4: FutureWarning: Dropping of nuisance columns in DataFrame reductions (with 'numeric_only=None') is deprecated; in a future version this will raise TypeError.  Select only valid columns before calling the reduction.\n",
      "  q3_average=df.where(df['Quarter']==3).mean()['Average_Fare']\n",
      "/var/folders/x7/2p1p8y5d7z73_5lt_c6wsf680000gn/T/ipykernel_74539/1929915480.py:5: FutureWarning: Dropping of nuisance columns in DataFrame reductions (with 'numeric_only=None') is deprecated; in a future version this will raise TypeError.  Select only valid columns before calling the reduction.\n",
      "  q4_average=df.where(df['Quarter']==4).mean()['Average_Fare']\n"
     ]
    },
    {
     "data": {
      "text/plain": [
       "Text(0.5, 1.0, 'Average Fares in every Quarter')"
      ]
     },
     "execution_count": 12,
     "metadata": {},
     "output_type": "execute_result"
    },
    {
     "data": {
      "image/png": "[encoded data removed]",
      "text/plain": [
       "<Figure size 432x288 with 1 Axes>"
      ]
     },
     "metadata": {
      "needs_background": "light"
     },
     "output_type": "display_data"
    }
   ],
   "source": [
    "#Generate a line plot for average fares in every quarter\n",
    "q1_average=df.where(df['Quarter']==1).mean()['Average_Fare']\n",
    "q2_average=df.where(df['Quarter']==2).mean()['Average_Fare']\n",
    "q3_average=df.where(df['Quarter']==3).mean()['Average_Fare']\n",
    "q4_average=df.where(df['Quarter']==4).mean()['Average_Fare']\n",
    "\n",
    "Quarters =['Quarter1','Quarter2','Quarter3','Quarter4']\n",
    "pos = np.arange(len(Quarters))\n",
    "quarter_fares = [q1_average,q2_average,q3_average,q4_average]\n",
    "plt.plot(Quarters,quarter_fares,'-o',color='red',linewidth=3)\n",
    "\n",
    "plt.xlabel('Quarters')\n",
    "plt.ylabel('Average Fares($)')\n",
    "plt.title('Average Fares in every Quarter')"
   ]
  },
  {
   "cell_type": "code",
   "execution_count": 13,
   "id": "185830f5",
   "metadata": {},
   "outputs": [
    {
     "data": {
      "text/plain": [
       "Text(0.5, 1.0, 'Flying Distance vs Average Fares')"
      ]
     },
     "execution_count": 13,
     "metadata": {},
     "output_type": "execute_result"
    },
    {
     "data": {
      "image/png": "[encoded data removed]",
      "text/plain": [
       "<Figure size 432x288 with 2 Axes>"
      ]
     },
     "metadata": {
      "needs_background": "light"
     },
     "output_type": "display_data"
    }
   ],
   "source": [
    "#Generate a heatmap of how air fares varies with distance\n",
    "plt.figure()\n",
    "plt.hist2d(df['Distance'],df['Average_Fare'],bins=1000)\n",
    "plt.colorbar()\n",
    "plt.xlabel('Distance in miles')\n",
    "plt.ylabel('Average Fares($)')\n",
    "plt.title('Flying Distance vs Average Fares')"
   ]
  },
  {
   "cell_type": "code",
   "execution_count": 14,
   "id": "ea820d2a",
   "metadata": {},
   "outputs": [
    {
     "data": {
      "text/html": [
       "<div>\n",
       "<style scoped>\n",
       "    .dataframe tbody tr th:only-of-type {\n",
       "        vertical-align: middle;\n",
       "    }\n",
       "\n",
       "    .dataframe tbody tr th {\n",
       "        vertical-align: top;\n",
       "    }\n",
       "\n",
       "    .dataframe thead th {\n",
       "        text-align: right;\n",
       "    }\n",
       "</style>\n",
       "<table border=\"1\" class=\"dataframe\">\n",
       "  <thead>\n",
       "    <tr style=\"text-align: right;\">\n",
       "      <th></th>\n",
       "      <th>Year</th>\n",
       "      <th>Quarter</th>\n",
       "      <th>Average_Fare</th>\n",
       "      <th>Distance</th>\n",
       "    </tr>\n",
       "  </thead>\n",
       "  <tbody>\n",
       "    <tr>\n",
       "      <th>Year</th>\n",
       "      <td>1.000000</td>\n",
       "      <td>-0.030443</td>\n",
       "      <td>0.230891</td>\n",
       "      <td>0.036285</td>\n",
       "    </tr>\n",
       "    <tr>\n",
       "      <th>Quarter</th>\n",
       "      <td>-0.030443</td>\n",
       "      <td>1.000000</td>\n",
       "      <td>-0.030276</td>\n",
       "      <td>0.001594</td>\n",
       "    </tr>\n",
       "    <tr>\n",
       "      <th>Average_Fare</th>\n",
       "      <td>0.230891</td>\n",
       "      <td>-0.030276</td>\n",
       "      <td>1.000000</td>\n",
       "      <td>0.529741</td>\n",
       "    </tr>\n",
       "    <tr>\n",
       "      <th>Distance</th>\n",
       "      <td>0.036285</td>\n",
       "      <td>0.001594</td>\n",
       "      <td>0.529741</td>\n",
       "      <td>1.000000</td>\n",
       "    </tr>\n",
       "  </tbody>\n",
       "</table>\n",
       "</div>"
      ],
      "text/plain": [
       "                  Year   Quarter  Average_Fare  Distance\n",
       "Year          1.000000 -0.030443      0.230891  0.036285\n",
       "Quarter      -0.030443  1.000000     -0.030276  0.001594\n",
       "Average_Fare  0.230891 -0.030276      1.000000  0.529741\n",
       "Distance      0.036285  0.001594      0.529741  1.000000"
      ]
     },
     "execution_count": 14,
     "metadata": {},
     "output_type": "execute_result"
    }
   ],
   "source": [
    "#Flight fare prediction\n",
    "df.corr()"
   ]
  },
  {
   "cell_type": "code",
   "execution_count": 15,
   "id": "ccbe0f17",
   "metadata": {},
   "outputs": [],
   "source": [
    "#Encoding categorical values\n",
    "from sklearn import preprocessing\n",
    "le = preprocessing.LabelEncoder()\n",
    "\n",
    "data_categorical=df.select_dtypes(exclude=[\"int64\",\"float\",\"int32\"])\n",
    "data_numerical=df.select_dtypes(include=[\"int64\",\"float\",\"int32\"])\n",
    "data_categorical=data_categorical[['Origin','Destination']]\n",
    "data_categorical=data_categorical.apply(le.fit_transform)"
   ]
  },
  {
   "cell_type": "code",
   "execution_count": 16,
   "id": "e39cbd0a",
   "metadata": {},
   "outputs": [],
   "source": [
    "data_categorical\n",
    "data_numerical=data_numerical[['Year','Quarter','Distance']]\n",
    "x=pd.concat([data_categorical,data_numerical],axis=1)\n",
    "y=df['Average_Fare']"
   ]
  },
  {
   "cell_type": "code",
   "execution_count": 17,
   "id": "58c43069",
   "metadata": {},
   "outputs": [],
   "source": [
    "from sklearn.model_selection import train_test_split"
   ]
  },
  {
   "cell_type": "code",
   "execution_count": 18,
   "id": "f1568f46",
   "metadata": {},
   "outputs": [],
   "source": [
    "X_train,X_test,y_train,y_test=train_test_split(x,y,random_state=0)"
   ]
  },
  {
   "cell_type": "code",
   "execution_count": 19,
   "id": "091ae73e",
   "metadata": {},
   "outputs": [],
   "source": [
    "from sklearn.ensemble import RandomForestRegressor"
   ]
  },
  {
   "cell_type": "code",
   "execution_count": 20,
   "id": "e42dcdeb",
   "metadata": {},
   "outputs": [
    {
     "name": "stdout",
     "output_type": "stream",
     "text": [
      "Training R2 score: 0.9898381301498236\n",
      "Testing R2 score: 0.9312202790601096\n"
     ]
    }
   ],
   "source": [
    "#Using Random Forest to generate the Training and Testing R2 Scores\n",
    "random_forest=RandomForestRegressor(n_estimators=100,max_depth=40).fit(X_train,y_train)\n",
    "print('Training R2 score: {}'.format(random_forest.score(X_train,y_train)))\n",
    "print('Testing R2 score: {}'.format(random_forest.score(X_test,y_test)))"
   ]
  },
  {
   "cell_type": "code",
   "execution_count": 21,
   "id": "9750c317",
   "metadata": {},
   "outputs": [
    {
     "name": "stdout",
     "output_type": "stream",
     "text": [
      "[0.5 1.5 2.5 3.5 4.5]\n"
     ]
    },
    {
     "data": {
      "text/plain": [
       "Text(0.5, 1.0, 'Feature Importance(Random Forest Regressor)')"
      ]
     },
     "execution_count": 21,
     "metadata": {},
     "output_type": "execute_result"
    },
    {
     "data": {
      "image/png": "[encoded data removed]",
      "text/plain": [
       "<Figure size 432x288 with 1 Axes>"
      ]
     },
     "metadata": {
      "needs_background": "light"
     },
     "output_type": "display_data"
    }
   ],
   "source": [
    "#Generate a horizontal bar plot to retrieve the most important features that affect the air fare\n",
    "feature_importance = random_forest.feature_importances_\n",
    "sorted_idx = np.argsort(feature_importance)\n",
    "pos = np.arange(sorted_idx.shape[0]) + .5\n",
    "print(pos)\n",
    "plt.figure()\n",
    "plt.barh(pos, feature_importance[sorted_idx], align='center')\n",
    "plt.yticks(pos, np.array(X_train.columns)[sorted_idx])\n",
    "plt.title('Feature Importance(Random Forest Regressor)')"
   ]
  }
 ],
 "metadata": {
  "kernelspec": {
   "display_name": "Python 3 (ipykernel)",
   "language": "python",
   "name": "python3"
  },
  "language_info": {
   "codemirror_mode": {
    "name": "ipython",
    "version": 3
   },
   "file_extension": ".py",
   "mimetype": "text/x-python",
   "name": "python",
   "nbconvert_exporter": "python",
   "pygments_lexer": "ipython3",
   "version": "3.8.8"
  }
 },
 "nbformat": 4,
 "nbformat_minor": 5
}
